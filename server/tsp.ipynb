{
 "cells": [
  {
   "cell_type": "markdown",
   "metadata": {},
   "source": [
    "# Max-Cut and Traveling Salesman Problem"
   ]
  },
  {
   "cell_type": "markdown",
   "metadata": {},
   "source": [
    "## Introduction\n",
    "\n",
    "Many problems in quantitative fields such as finance and engineering are optimization problems. Optimization problems lie at the core of complex decision-making and definition of strategies. \n",
    "\n",
    "Optimization (or combinatorial optimization) means searching for an optimal solution in a finite or countably infinite set of potential solutions. Optimality is defined with respect to some criterion function, which is to be minimized or maximized. This is typically called cost function or objective function. \n",
    "\n",
    "**Typical optimization problems**\n",
    "\n",
    "Minimization: cost, distance, length of a traversal, weight, processing time, material, energy consumption, number of objects\n",
    "\n",
    "Maximization: profit, value, output, return, yield, utility, efficiency, capacity, number of objects \n",
    "\n",
    "We consider here max-cut problems of practical interest in many fields, and show how they can be mapped on quantum computers manually and how Qiskit's optimization module supports this.\n",
    "\n",
    "\n",
    "### Weighted Max-Cut\n",
    "\n",
    "Max-Cut is an NP-complete problem, with applications in clustering, network science, and statistical physics. To grasp how practical applications are mapped into given Max-Cut instances, consider a system of many people that can interact and influence each other. Individuals can be represented by vertices of a graph, and their interactions seen as pairwise connections between vertices of the graph, or edges. With this representation in mind, it is easy to model typical marketing problems. For example, suppose that it is assumed that individuals will influence each other's buying decisions, and knowledge is given about how strong they will influence each other. The influence can be modeled by weights assigned on each edge of the graph. It is possible then to predict the outcome of a marketing strategy in which products are offered for free to some individuals, and then ask which is the optimal subset of individuals that should get the free products, in order to maximize revenues.\n",
    "\n",
    "The formal definition of this problem is the following:\n",
    "\n",
    "Consider an $n$-node undirected graph *G = (V, E)* where *|V| = n* with edge weights $w_{ij}>0$, $w_{ij}=w_{ji}$, for $(i, j)\\in E$. A cut is defined as a partition of the original set V into two subsets. The cost function to be optimized is in this case the sum of weights of edges connecting points in the two different subsets, *crossing* the cut. By assigning $x_i=0$ or $x_i=1$ to each node $i$, one tries to maximize the global profit function (here and in the following summations run over indices 0,1,...n-1)\n",
    "\n",
    "$$\\tilde{C}(\\textbf{x}) = \\sum_{i,j} w_{ij} x_i (1-x_j).$$\n",
    "\n",
    "In our simple marketing model, $w_{ij}$ represents the probability that the person $j$ will buy a product after $i$ gets a free one. Note that the weights $w_{ij}$ can in principle be greater than $1$ (or even negative), corresponding to the case where the individual $j$ will buy more than one product. Maximizing the total buying probability corresponds to maximizing the total future revenues. In the case where the profit probability will be greater than the cost of the initial free samples, the strategy is a convenient one. An extension to this model has the nodes themselves carry weights, which can be regarded, in our marketing model, as the likelihood that a person granted with a free sample of the product will buy it again in the future. With this additional information in our model, the objective function to maximize becomes \n",
    "\n",
    "$$C(\\textbf{x}) = \\sum_{i,j} w_{ij} x_i (1-x_j)+\\sum_i w_i x_i. $$\n",
    " \n",
    "In order to find a solution to this problem on a quantum computer, one needs first to map it to an Ising Hamiltonian. This can be done with the assignment $x_i\\rightarrow (1-Z_i)/2$, where $Z_i$ is the Pauli Z operator that has eigenvalues $\\pm 1$. Doing this we find that \n",
    "\n",
    "$$C(\\textbf{Z}) = \\sum_{i,j} \\frac{w_{ij}}{4} (1-Z_i)(1+Z_j) + \\sum_i \\frac{w_i}{2} (1-Z_i) = -\\frac{1}{2}\\left( \\sum_{i<j} w_{ij} Z_i Z_j +\\sum_i w_i Z_i\\right)+\\mathrm{const},$$\n",
    "\n",
    "where $\\mathrm{const} = \\sum_{i<j}w_{ij}/2+\\sum_i w_i/2$. In other terms, the weighted Max-Cut problem is equivalent to minimizing the Ising Hamiltonian \n",
    "\n",
    "$$ H = \\sum_i w_i Z_i + \\sum_{i<j} w_{ij} Z_iZ_j.$$\n",
    "\n",
    "Qiskit's optimization module can generate the Ising Hamiltonian for the first profit function $\\tilde{C}$.\n",
    "To this extent, function $\\tilde{C}$ can be modeled as a `QuadraticProgram`, which provides the `to_ising()` method.\n",
    "\n",
    "\n",
    "### Approximate Universal Quantum Computing for Optimization Problems\n",
    "\n",
    "There has been a considerable amount of interest in recent times about the use of quantum computers to find a solution to combinatorial optimization problems. It is important to say that, given the classical nature of combinatorial problems, exponential speedup in using quantum computers compared to the best classical algorithms is not guaranteed. However, due to the nature and importance of the target problems, it is worth investigating heuristic approaches on a quantum computer that could indeed speed up some problem instances. Here we demonstrate an approach that is based on the *Quantum Approximate Optimization Algorithm* (QAOA) by Farhi, Goldstone, and Gutmann (2014). We frame the algorithm in the context of *approximate quantum computing*, given its heuristic nature. \n",
    "\n",
    "The algorithm works as follows:\n",
    "\n",
    "1. Choose the $w_i$ and $w_{ij}$ in the target Ising problem. In principle, even higher powers of Z are allowed.\n",
    "\n",
    "1. Choose the depth of the quantum circuit $m$. Note that the depth can be modified adaptively.\n",
    "\n",
    "1. Choose a set of controls $\\theta$ and make a trial function $|\\psi(\\boldsymbol\\theta)\\rangle$, built using a quantum circuit made of C-Phase gates and single-qubit Y rotations, parameterized by the components of $\\boldsymbol\\theta$. \n",
    "\n",
    "1. Evaluate \n",
    "$$C(\\boldsymbol\\theta) = \\langle\\psi(\\boldsymbol\\theta)~|H|~\\psi(\\boldsymbol\\theta)\\rangle = \\sum_i w_i \\langle\\psi(\\boldsymbol\\theta)~|Z_i|~\\psi(\\boldsymbol\\theta)\\rangle+ \\sum_{i<j} w_{ij} \\langle\\psi(\\boldsymbol\\theta)~|Z_iZ_j|~\\psi(\\boldsymbol\\theta)\\rangle$$ \n",
    "by sampling the outcome of the circuit in the Z-basis and adding the expectation values of the individual Ising terms together. In general, different control points around $\\boldsymbol\\theta$ have to be estimated, depending on the classical optimizer chosen. \n",
    "\n",
    "1. Use a classical optimizer to choose a new set of controls.\n",
    "\n",
    "1. Continue until $C(\\boldsymbol\\theta)$ reaches a minimum, close enough to the solution $\\boldsymbol\\theta^*$.\n",
    "\n",
    "1. Use the last $\\boldsymbol\\theta$ to generate a final set of samples from the distribution $|\\langle z_i~|\\psi(\\boldsymbol\\theta)\\rangle|^2\\;\\forall i$ to obtain the answer.\n",
    "    \n",
    "It is our belief the difficulty of finding good heuristic algorithms will come down to the choice of an appropriate trial wavefunction. For example, one could consider a trial function whose entanglement best aligns with the target problem, or simply make the amount of entanglement a variable. In this tutorial, we will consider a simple trial function of the form\n",
    "\n",
    "$$|\\psi(\\theta)\\rangle  = [U_\\mathrm{single}(\\boldsymbol\\theta) U_\\mathrm{entangler}]^m |+\\rangle$$\n",
    "\n",
    "where $U_\\mathrm{entangler}$ is a collection of C-Phase gates (fully entangling gates), and $U_\\mathrm{single}(\\theta) = \\prod_{i=1}^n Y(\\theta_{i})$, where $n$ is the number of qubits and $m$ is the depth of the quantum circuit. The motivation for this choice is that for these classical problems this choice allows us to search over the space of quantum states that have only real coefficients, still exploiting the entanglement to potentially converge faster to the solution.\n",
    "\n",
    "One advantage of using this sampling method compared to adiabatic approaches is that the target Ising Hamiltonian does not have to be implemented directly on hardware, allowing this algorithm not to be limited to the connectivity of the device. Furthermore, higher-order terms in the cost function, such as $Z_iZ_jZ_k$, can also be sampled efficiently, whereas in adiabatic or annealing approaches they are generally impractical to deal with. \n",
    "\n",
    "\n",
    "References:\n",
    "- A. Lucas, Frontiers in Physics 2, 5 (2014)\n",
    "- E. Farhi, J. Goldstone, S. Gutmann e-print arXiv 1411.4028 (2014)\n",
    "- D. Wecker, M. B. Hastings, M. Troyer Phys. Rev. A 94, 022309 (2016)\n",
    "- E. Farhi, J. Goldstone, S. Gutmann, H. Neven e-print arXiv 1703.06199 (2017)"
   ]
  },
  {
   "cell_type": "markdown",
   "metadata": {},
   "source": [
    "### Application classes\n",
    "\n",
    "We use the application classes for the max-cut problem and the traveling salesman problem in this page. There are application classes for other optimization problems available as well.\n",
    "See [Application Classes for Optimization Problems](09_application_classes.ipynb) for details."
   ]
  },
  {
   "cell_type": "code",
   "execution_count": 1,
   "metadata": {},
   "outputs": [],
   "source": [
    "# useful additional packages \n",
    "import matplotlib.pyplot as plt\n",
    "import matplotlib.axes as axes\n",
    "import numpy as np\n",
    "import networkx as nx\n",
    "\n",
    "from qiskit.utils import algorithm_globals\n",
    "from qiskit import Aer\n",
    "from qiskit.tools.visualization import plot_histogram\n",
    "from qiskit.circuit.library import TwoLocal\n",
    "from qiskit_optimization.applications import Tsp\n",
    "from qiskit.algorithms import VQE, NumPyMinimumEigensolver\n",
    "from qiskit.algorithms.optimizers import SPSA\n",
    "from qiskit.utils import algorithm_globals, QuantumInstance\n",
    "from qiskit_optimization.algorithms import MinimumEigenOptimizer\n",
    "from qiskit_optimization.problems import QuadraticProgram"
   ]
  },
  {
   "cell_type": "markdown",
   "metadata": {},
   "source": [
    "## Traveling Salesman Problem\n",
    "\n",
    "In addition to being a notorious NP-complete problem that has drawn the attention of computer scientists and mathematicians for over two centuries, the Traveling Salesman Problem (TSP) has important bearings on finance and marketing, as its name suggests. Colloquially speaking, the traveling salesman is a person that goes from city to city to sell merchandise. The objective in this case is to find the shortest path that would enable the salesman to visit all the cities and return to its hometown, i.e. the city where he started traveling. By doing this, the salesman gets to maximize potential sales in the least amount of time. \n",
    "\n",
    "The problem derives its importance from its \"hardness\" and ubiquitous equivalence to other relevant combinatorial optimization problems that arise in practice.\n",
    " \n",
    "The mathematical formulation with some early analysis was proposed by W.R. Hamilton in the early 19th century. Mathematically the problem is, as in the case of Max-Cut, best abstracted in terms of graphs. The TSP on the nodes of a graph asks for the shortest *Hamiltonian cycle* that can be taken through each of the nodes. A Hamilton cycle is a closed path that uses every vertex of a graph once. The general solution is unknown and an algorithm that finds it efficiently (e.g., in polynomial time) is not expected to exist.\n",
    "\n",
    "Find the shortest Hamiltonian cycle in a graph $G=(V,E)$ with $n=|V|$ nodes and distances, $w_{ij}$ (distance from vertex $i$ to vertex $j$). A Hamiltonian cycle is described by $N^2$ variables $x_{i,p}$, where $i$ represents the node and $p$ represents its order in a prospective cycle. The decision variable takes the value 1 if the solution occurs at node $i$ at time order $p$. We require that every node can only appear once in the cycle, and for each time a node has to occur. This amounts to the two constraints (here and in the following, whenever not specified, the summands run over 0,1,...N-1)\n",
    "\n",
    "$$\\sum_{i} x_{i,p} = 1 ~~\\forall p$$\n",
    "$$\\sum_{p} x_{i,p} = 1 ~~\\forall i.$$\n",
    "\n",
    "For nodes in our prospective ordering, if $x_{i,p}$ and $x_{j,p+1}$ are both 1, then there should be an energy penalty if $(i,j) \\notin E$ (not connected in the graph). The form of this penalty is \n",
    "\n",
    "$$\\sum_{i,j\\notin E}\\sum_{p} x_{i,p}x_{j,p+1}>0,$$ \n",
    "\n",
    "where it is assumed the boundary condition of the Hamiltonian cycles $(p=N)\\equiv (p=0)$. However, here it will be assumed a fully connected graph and not include this term. The distance that needs to be minimized is \n",
    "\n",
    "$$C(\\textbf{x})=\\sum_{i,j}w_{ij}\\sum_{p} x_{i,p}x_{j,p+1}.$$\n",
    "\n",
    "Putting this all together in a single objective function to be minimized, we get the following:\n",
    "\n",
    "$$C(\\textbf{x})=\\sum_{i,j}w_{ij}\\sum_{p} x_{i,p}x_{j,p+1}+ A\\sum_p\\left(1- \\sum_i x_{i,p}\\right)^2+A\\sum_i\\left(1- \\sum_p x_{i,p}\\right)^2,$$\n",
    "\n",
    "where $A$ is a free parameter. One needs to ensure that $A$ is large enough so that these constraints are respected. One way to do this is to choose $A$ such that $A > \\mathrm{max}(w_{ij})$.\n",
    "\n",
    "Once again, it is easy to map the problem in this form to a quantum computer, and the solution will be found by minimizing a Ising Hamiltonian. "
   ]
  },
  {
   "cell_type": "code",
   "execution_count": 80,
   "metadata": {},
   "outputs": [
    {
     "name": "stdout",
     "output_type": "stream",
     "text": [
      "['__class__', '__contains__', '__delattr__', '__dict__', '__dir__', '__doc__', '__eq__', '__format__', '__ge__', '__getattribute__', '__getitem__', '__gt__', '__hash__', '__init__', '__init_subclass__', '__iter__', '__le__', '__len__', '__lt__', '__module__', '__ne__', '__new__', '__reduce__', '__reduce_ex__', '__repr__', '__setattr__', '__sizeof__', '__str__', '__subclasshook__', '__weakref__', '_adj', '_node', 'add_edge', 'add_edges_from', 'add_node', 'add_nodes_from', 'add_weighted_edges_from', 'adj', 'adjacency', 'adjlist_inner_dict_factory', 'adjlist_outer_dict_factory', 'clear', 'clear_edges', 'copy', 'degree', 'edge_attr_dict_factory', 'edge_subgraph', 'edges', 'get_edge_data', 'graph', 'graph_attr_dict_factory', 'has_edge', 'has_node', 'is_directed', 'is_multigraph', 'name', 'nbunch_iter', 'neighbors', 'node_attr_dict_factory', 'node_dict_factory', 'nodes', 'number_of_edges', 'number_of_nodes', 'order', 'remove_edge', 'remove_edges_from', 'remove_node', 'remove_nodes_from', 'size', 'subgraph', 'to_directed', 'to_directed_class', 'to_undirected', 'to_undirected_class', 'update']\n"
     ]
    }
   ],
   "source": [
    "n=4 # Number of nodes in graph\n",
    "G=nx.Graph()\n",
    "G.add_nodes_from(np.arange(0,n,1))\n",
    "elist=[(0,1,2.0),(0,2,2.0),(0,3,1.0),(1,2,1.0),(1,3,1.0),(2,3,1.0)]\n",
    "# tuple is (i,j,weight) where (i,j) is the edge\n",
    "G.add_weighted_edges_from(elist)\n",
    "\n",
    "colors = ['r' for node in G.nodes()]\n",
    "pos = nx.spring_layout(G)\n",
    "# coord = algorithm_globals.random.uniform(0, 100, (n, 2))\n",
    "\n",
    "# for w, v in pos.items():\n",
    "#     G.nodes[w][\"pos\"] = v\n",
    "\n",
    "# Computing the weight matrix from the random graph\n",
    "w = np.zeros([n,n])\n",
    "for i in range(n):\n",
    "    for j in range(n):\n",
    "        temp = G.get_edge_data(i,j,default=0)\n",
    "        if temp != 0:\n",
    "            w[i,j] = temp['weight']\n",
    "print(dir(G))"
   ]
  },
  {
   "cell_type": "code",
   "execution_count": 81,
   "metadata": {
    "scrolled": true,
    "tags": []
   },
   "outputs": [
    {
     "name": "stdout",
     "output_type": "stream",
     "text": [
      "distance\n",
      " [[0. 2. 2. 1.]\n",
      " [2. 0. 1. 1.]\n",
      " [2. 1. 0. 1.]\n",
      " [1. 1. 1. 0.]]\n"
     ]
    },
    {
     "data": {
      "image/png": "[encoded data removed]",
      "text/plain": [
       "<Figure size 432x288 with 1 Axes>"
      ]
     },
     "metadata": {},
     "output_type": "display_data"
    }
   ],
   "source": [
    "# Generating a graph of 3 nodes\n",
    "# n = 3\n",
    "# num_qubits = n ** 2\n",
    "# TODO Concrete graph\n",
    "def draw_graph(G, colors, pos):\n",
    "    default_axes = plt.axes(frameon=True)\n",
    "    nx.draw_networkx(G, node_color=colors, node_size=600, alpha=.8, ax=default_axes, pos=pos)\n",
    "    edge_labels = nx.get_edge_attributes(G, 'weight')\n",
    "    nx.draw_networkx_edge_labels(G, pos=pos, edge_labels=edge_labels)\n",
    "\n",
    "# tsp = Tsp.create_random_instance(n)\n",
    "tsp = Tsp(G)\n",
    "adj_matrix = nx.to_numpy_matrix(tsp.graph)\n",
    "\n",
    "print('distance\\n', adj_matrix)\n",
    "\n",
    "colors = ['r' for node in tsp.graph.nodes]\n",
    "# pos = [tsp.graph.nodes[node]['pos']  for node in tsp.graph.nodes]\n",
    "# print(pos)\n",
    "\n",
    "# coord = algorithm_globals.random.uniform(0, 100, (n, 2))\n",
    "# pos = {i: (coord_[0], coord_[1]) for i, coord_ in enumerate(coord)}\n",
    "draw_graph(tsp.graph, colors, pos)"
   ]
  },
  {
   "cell_type": "code",
   "execution_count": 79,
   "metadata": {},
   "outputs": [
    {
     "name": "stdout",
     "output_type": "stream",
     "text": [
      "1.0\n",
      "distance\n",
      " [[0. 2. 2. 1.]\n",
      " [2. 0. 1. 0.]\n",
      " [2. 1. 0. 1.]\n",
      " [1. 0. 1. 0.]]\n"
     ]
    },
    {
     "data": {
      "image/png": "[encoded data removed]",
      "text/plain": [
       "<Figure size 432x288 with 1 Axes>"
      ]
     },
     "metadata": {},
     "output_type": "display_data"
    }
   ],
   "source": [
    "# print(dir(G))\n",
    "print(G[3][2]['weight'])\n",
    "\n",
    "n=4\n",
    "low = 0\n",
    "high = 100\n",
    "\n",
    "graph=nx.Graph()\n",
    "\n",
    "coord = algorithm_globals.random.uniform(low, high, (n, 2))\n",
    "pos = {i: (coord_[0], coord_[1]) for i, coord_ in enumerate(coord)}\n",
    "\n",
    "for i in np.arange(0,n,1):\n",
    "    graph.add_node(i, pos=pos[i])\n",
    "    \n",
    "\n",
    "elist=[(0,1,2.0),(0,2,2.0),(0,3,1.0),(1,2,1.0),(2,3,1.0)]\n",
    "# tuple is (i,j,weight) where (i,j) is the edge\n",
    "graph.add_weighted_edges_from(elist)\n",
    "\n",
    "g2 = nx.random_geometric_graph(n, np.hypot(high - low, high - low) + 1, pos=pos)\n",
    "\n",
    "\n",
    "    \n",
    "tsp = Tsp(graph)\n",
    "adj_matrix = nx.to_numpy_matrix(tsp.graph)\n",
    "\n",
    "print('distance\\n', adj_matrix)\n",
    "\n",
    "colors = ['r' for node in tsp.graph.nodes]\n",
    "# pos = [tsp.graph.nodes[node]['pos']  for node in tsp.graph.nodes]\n",
    "# print(pos)\n",
    "\n",
    "# coord = algorithm_globals.random.uniform(0, 100, (n, 2))\n",
    "# pos = {i: (coord_[0], coord_[1]) for i, coord_ in enumerate(coord)}\n",
    "draw_graph(tsp.graph, colors, pos)\n"
   ]
  },
  {
   "cell_type": "code",
   "execution_count": 65,
   "metadata": {},
   "outputs": [
    {
     "name": "stdout",
     "output_type": "stream",
     "text": [
      "[(0, 1), (0, 2), (0, 3), (1, 2), (2, 3)]\n"
     ]
    }
   ],
   "source": [
    "print(tsp.graph.edges)"
   ]
  },
  {
   "cell_type": "markdown",
   "metadata": {},
   "source": [
    "### Brute force approach"
   ]
  },
  {
   "cell_type": "code",
   "execution_count": 82,
   "metadata": {
    "tags": []
   },
   "outputs": [
    {
     "name": "stdout",
     "output_type": "stream",
     "text": [
      "order = (0, 1, 2, 3) Distance = 5.0\n",
      "Best order from brute force = (0, 1, 2, 3) with total distance = 5.0\n",
      "\n"
     ]
    },
    {
     "data": {
      "image/png": "[encoded data removed]",
      "text/plain": [
       "<Figure size 432x288 with 1 Axes>"
      ]
     },
     "metadata": {},
     "output_type": "display_data"
    }
   ],
   "source": [
    "from itertools import permutations\n",
    "\n",
    "def brute_force_tsp(w, N):\n",
    "    a = list(permutations(range(1,N)))\n",
    "    last_best_distance = 1e10\n",
    "    for i in a:\n",
    "        distance = 0\n",
    "        pre_j = 0\n",
    "        for j in i:\n",
    "            distance = distance + w[j,pre_j]\n",
    "            pre_j = j\n",
    "        distance = distance + w[pre_j,0]\n",
    "        order = (0,) + i\n",
    "        if distance < last_best_distance:\n",
    "            best_order = order\n",
    "            last_best_distance = distance\n",
    "            print('order = ' + str(order) + ' Distance = ' + str(distance))\n",
    "    return last_best_distance, best_order\n",
    "\n",
    "\n",
    "best_distance, best_order = brute_force_tsp(adj_matrix, n)\n",
    "print('Best order from brute force = ' + str(best_order) + ' with total distance = ' + str(best_distance))\n",
    "\n",
    "\n",
    "def draw_tsp_solution(G, order, colors, pos):\n",
    "    G2 = nx.DiGraph()\n",
    "    G2.add_nodes_from(G)\n",
    "    n = len(order)\n",
    "    for i in range(n):\n",
    "        j = (i + 1) % n\n",
    "        G2.add_edge(order[i], order[j], weight=G[order[i]][order[j]]['weight'])\n",
    "    default_axes = plt.axes(frameon=True)\n",
    "    nx.draw_networkx(G2, node_color=colors, edge_color='b', node_size=600, alpha=.8, ax=default_axes, pos=pos)\n",
    "    edge_labels = nx.get_edge_attributes(G2, 'weight')\n",
    "    nx.draw_networkx_edge_labels(G2, pos, font_color='b', edge_labels=edge_labels)\n",
    "\n",
    "\n",
    "print(str(G))\n",
    "draw_tsp_solution(tsp.graph, best_order, colors, pos)"
   ]
  },
  {
   "cell_type": "markdown",
   "metadata": {},
   "source": [
    "### Mapping to the Ising problem"
   ]
  },
  {
   "cell_type": "code",
   "execution_count": 83,
   "metadata": {},
   "outputs": [
    {
     "name": "stdout",
     "output_type": "stream",
     "text": [
      "\\ This file has been generated by DOcplex\n",
      "\\ ENCODING=ISO-8859-1\n",
      "\\Problem name: TSP\n",
      "\n",
      "Minimize\n",
      " obj: [ 4 x_0_0*x_1_1 + 4 x_0_0*x_1_3 + 4 x_0_0*x_2_1 + 4 x_0_0*x_2_3\n",
      "      + 2 x_0_0*x_3_1 + 2 x_0_0*x_3_3 + 4 x_0_1*x_1_0 + 4 x_0_1*x_1_2\n",
      "      + 4 x_0_1*x_2_0 + 4 x_0_1*x_2_2 + 2 x_0_1*x_3_0 + 2 x_0_1*x_3_2\n",
      "      + 4 x_0_2*x_1_1 + 4 x_0_2*x_1_3 + 4 x_0_2*x_2_1 + 4 x_0_2*x_2_3\n",
      "      + 2 x_0_2*x_3_1 + 2 x_0_2*x_3_3 + 4 x_0_3*x_1_0 + 4 x_0_3*x_1_2\n",
      "      + 4 x_0_3*x_2_0 + 4 x_0_3*x_2_2 + 2 x_0_3*x_3_0 + 2 x_0_3*x_3_2\n",
      "      + 2 x_1_0*x_2_1 + 2 x_1_0*x_2_3 + 2 x_1_0*x_3_1 + 2 x_1_0*x_3_3\n",
      "      + 2 x_1_1*x_2_0 + 2 x_1_1*x_2_2 + 2 x_1_1*x_3_0 + 2 x_1_1*x_3_2\n",
      "      + 2 x_1_2*x_2_1 + 2 x_1_2*x_2_3 + 2 x_1_2*x_3_1 + 2 x_1_2*x_3_3\n",
      "      + 2 x_1_3*x_2_0 + 2 x_1_3*x_2_2 + 2 x_1_3*x_3_0 + 2 x_1_3*x_3_2\n",
      "      + 2 x_2_0*x_3_1 + 2 x_2_0*x_3_3 + 2 x_2_1*x_3_0 + 2 x_2_1*x_3_2\n",
      "      + 2 x_2_2*x_3_1 + 2 x_2_2*x_3_3 + 2 x_2_3*x_3_0 + 2 x_2_3*x_3_2 ]/2\n",
      "Subject To\n",
      " c0: x_0_0 + x_0_1 + x_0_2 + x_0_3 = 1\n",
      " c1: x_1_0 + x_1_1 + x_1_2 + x_1_3 = 1\n",
      " c2: x_2_0 + x_2_1 + x_2_2 + x_2_3 = 1\n",
      " c3: x_3_0 + x_3_1 + x_3_2 + x_3_3 = 1\n",
      " c4: x_0_0 + x_1_0 + x_2_0 + x_3_0 = 1\n",
      " c5: x_0_1 + x_1_1 + x_2_1 + x_3_1 = 1\n",
      " c6: x_0_2 + x_1_2 + x_2_2 + x_3_2 = 1\n",
      " c7: x_0_3 + x_1_3 + x_2_3 + x_3_3 = 1\n",
      "\n",
      "Bounds\n",
      " 0 <= x_0_0 <= 1\n",
      " 0 <= x_0_1 <= 1\n",
      " 0 <= x_0_2 <= 1\n",
      " 0 <= x_0_3 <= 1\n",
      " 0 <= x_1_0 <= 1\n",
      " 0 <= x_1_1 <= 1\n",
      " 0 <= x_1_2 <= 1\n",
      " 0 <= x_1_3 <= 1\n",
      " 0 <= x_2_0 <= 1\n",
      " 0 <= x_2_1 <= 1\n",
      " 0 <= x_2_2 <= 1\n",
      " 0 <= x_2_3 <= 1\n",
      " 0 <= x_3_0 <= 1\n",
      " 0 <= x_3_1 <= 1\n",
      " 0 <= x_3_2 <= 1\n",
      " 0 <= x_3_3 <= 1\n",
      "\n",
      "Binaries\n",
      " x_0_0 x_0_1 x_0_2 x_0_3 x_1_0 x_1_1 x_1_2 x_1_3 x_2_0 x_2_1 x_2_2 x_2_3 x_3_0\n",
      " x_3_1 x_3_2 x_3_3\n",
      "End\n",
      "\n"
     ]
    }
   ],
   "source": [
    "qp = tsp.to_quadratic_program()\n",
    "print(qp)\n",
    "# print(qp.export_as_lp_string())"
   ]
  },
  {
   "cell_type": "code",
   "execution_count": 34,
   "metadata": {
    "scrolled": true,
    "tags": []
   },
   "outputs": [
    {
     "name": "stdout",
     "output_type": "stream",
     "text": [
      "\\ This file has been generated by DOcplex\n",
      "\\ ENCODING=ISO-8859-1\n",
      "\\Problem name: TSP\n",
      "\n",
      "Minimize\n",
      " obj: - 11524 x_0_0 - 11524 x_0_1 - 11524 x_0_2 - 11524 x_0_3 - 11524 x_1_0\n",
      "      - 11524 x_1_1 - 11524 x_1_2 - 11524 x_1_3 - 11524 x_2_0 - 11524 x_2_1\n",
      "      - 11524 x_2_2 - 11524 x_2_3 - 11524 x_3_0 - 11524 x_3_1 - 11524 x_3_2\n",
      "      - 11524 x_3_3 + [ 11524 x_0_0^2 + 11524 x_0_0*x_0_1 + 11524 x_0_0*x_0_2\n",
      "      + 11524 x_0_0*x_0_3 + 11524 x_0_0*x_1_0 + 200 x_0_0*x_1_1\n",
      "      + 200 x_0_0*x_1_3 + 11524 x_0_0*x_2_0 + 64 x_0_0*x_2_1 + 64 x_0_0*x_2_3\n",
      "      + 11524 x_0_0*x_3_0 + 132 x_0_0*x_3_1 + 132 x_0_0*x_3_3 + 11524 x_0_1^2\n",
      "      + 11524 x_0_1*x_0_2 + 11524 x_0_1*x_0_3 + 200 x_0_1*x_1_0\n",
      "      + 11524 x_0_1*x_1_1 + 200 x_0_1*x_1_2 + 64 x_0_1*x_2_0 + 11524 x_0_1*x_2_1\n",
      "      + 64 x_0_1*x_2_2 + 132 x_0_1*x_3_0 + 11524 x_0_1*x_3_1 + 132 x_0_1*x_3_2\n",
      "      + 11524 x_0_2^2 + 11524 x_0_2*x_0_3 + 200 x_0_2*x_1_1 + 11524 x_0_2*x_1_2\n",
      "      + 200 x_0_2*x_1_3 + 64 x_0_2*x_2_1 + 11524 x_0_2*x_2_2 + 64 x_0_2*x_2_3\n",
      "      + 132 x_0_2*x_3_1 + 11524 x_0_2*x_3_2 + 132 x_0_2*x_3_3 + 11524 x_0_3^2\n",
      "      + 200 x_0_3*x_1_0 + 200 x_0_3*x_1_2 + 11524 x_0_3*x_1_3 + 64 x_0_3*x_2_0\n",
      "      + 64 x_0_3*x_2_2 + 11524 x_0_3*x_2_3 + 132 x_0_3*x_3_0 + 132 x_0_3*x_3_2\n",
      "      + 11524 x_0_3*x_3_3 + 11524 x_1_0^2 + 11524 x_1_0*x_1_1\n",
      "      + 11524 x_1_0*x_1_2 + 11524 x_1_0*x_1_3 + 11524 x_1_0*x_2_0\n",
      "      + 162 x_1_0*x_2_1 + 162 x_1_0*x_2_3 + 11524 x_1_0*x_3_0 + 76 x_1_0*x_3_1\n",
      "      + 76 x_1_0*x_3_3 + 11524 x_1_1^2 + 11524 x_1_1*x_1_2 + 11524 x_1_1*x_1_3\n",
      "      + 162 x_1_1*x_2_0 + 11524 x_1_1*x_2_1 + 162 x_1_1*x_2_2 + 76 x_1_1*x_3_0\n",
      "      + 11524 x_1_1*x_3_1 + 76 x_1_1*x_3_2 + 11524 x_1_2^2 + 11524 x_1_2*x_1_3\n",
      "      + 162 x_1_2*x_2_1 + 11524 x_1_2*x_2_2 + 162 x_1_2*x_2_3 + 76 x_1_2*x_3_1\n",
      "      + 11524 x_1_2*x_3_2 + 76 x_1_2*x_3_3 + 11524 x_1_3^2 + 162 x_1_3*x_2_0\n",
      "      + 162 x_1_3*x_2_2 + 11524 x_1_3*x_2_3 + 76 x_1_3*x_3_0 + 76 x_1_3*x_3_2\n",
      "      + 11524 x_1_3*x_3_3 + 11524 x_2_0^2 + 11524 x_2_0*x_2_1\n",
      "      + 11524 x_2_0*x_2_2 + 11524 x_2_0*x_2_3 + 11524 x_2_0*x_3_0\n",
      "      + 86 x_2_0*x_3_1 + 86 x_2_0*x_3_3 + 11524 x_2_1^2 + 11524 x_2_1*x_2_2\n",
      "      + 11524 x_2_1*x_2_3 + 86 x_2_1*x_3_0 + 11524 x_2_1*x_3_1 + 86 x_2_1*x_3_2\n",
      "      + 11524 x_2_2^2 + 11524 x_2_2*x_2_3 + 86 x_2_2*x_3_1 + 11524 x_2_2*x_3_2\n",
      "      + 86 x_2_2*x_3_3 + 11524 x_2_3^2 + 86 x_2_3*x_3_0 + 86 x_2_3*x_3_2\n",
      "      + 11524 x_2_3*x_3_3 + 11524 x_3_0^2 + 11524 x_3_0*x_3_1\n",
      "      + 11524 x_3_0*x_3_2 + 11524 x_3_0*x_3_3 + 11524 x_3_1^2\n",
      "      + 11524 x_3_1*x_3_2 + 11524 x_3_1*x_3_3 + 11524 x_3_2^2\n",
      "      + 11524 x_3_2*x_3_3 + 11524 x_3_3^2 ]/2 + 23048\n",
      "Subject To\n",
      "\n",
      "Bounds\n",
      " 0 <= x_0_0 <= 1\n",
      " 0 <= x_0_1 <= 1\n",
      " 0 <= x_0_2 <= 1\n",
      " 0 <= x_0_3 <= 1\n",
      " 0 <= x_1_0 <= 1\n",
      " 0 <= x_1_1 <= 1\n",
      " 0 <= x_1_2 <= 1\n",
      " 0 <= x_1_3 <= 1\n",
      " 0 <= x_2_0 <= 1\n",
      " 0 <= x_2_1 <= 1\n",
      " 0 <= x_2_2 <= 1\n",
      " 0 <= x_2_3 <= 1\n",
      " 0 <= x_3_0 <= 1\n",
      " 0 <= x_3_1 <= 1\n",
      " 0 <= x_3_2 <= 1\n",
      " 0 <= x_3_3 <= 1\n",
      "\n",
      "Binaries\n",
      " x_0_0 x_0_1 x_0_2 x_0_3 x_1_0 x_1_1 x_1_2 x_1_3 x_2_0 x_2_1 x_2_2 x_2_3 x_3_0\n",
      " x_3_1 x_3_2 x_3_3\n",
      "End\n",
      "\n"
     ]
    }
   ],
   "source": [
    "from qiskit_optimization.converters import QuadraticProgramToQubo\n",
    "\n",
    "qp2qubo = QuadraticProgramToQubo()\n",
    "qubo = qp2qubo.convert(qp)\n",
    "qubitOp, offset = qubo.to_ising()\n",
    "print(qubo)\n",
    "# print('Offset:', offset)\n",
    "# print('Ising Hamiltonian:')\n",
    "# print(str(qubitOp))"
   ]
  },
  {
   "cell_type": "code",
   "execution_count": 40,
   "metadata": {},
   "outputs": [
    {
     "name": "stdout",
     "output_type": "stream",
     "text": [
      "<class 'qiskit_optimization.problems.quadratic_program.QuadraticProgram'>\n"
     ]
    }
   ],
   "source": [
    "print(type(qubo))"
   ]
  },
  {
   "cell_type": "code",
   "execution_count": 18,
   "metadata": {
    "tags": []
   },
   "outputs": [
    {
     "name": "stdout",
     "output_type": "stream",
     "text": [
      "optimal function value: 202.0\n",
      "optimal value: [1. 0. 0. 0. 1. 0. 0. 0. 1.]\n",
      "status: SUCCESS\n"
     ]
    }
   ],
   "source": [
    "result = exact.solve(qubo)\n",
    "print(result)"
   ]
  },
  {
   "cell_type": "markdown",
   "metadata": {},
   "source": [
    "### Checking that the full Hamiltonian gives the right cost "
   ]
  },
  {
   "cell_type": "code",
   "execution_count": 19,
   "metadata": {
    "tags": []
   },
   "outputs": [
    {
     "name": "stdout",
     "output_type": "stream",
     "text": [
      "energy: -7379.0\n",
      "tsp objective: 202.0\n",
      "feasible: True\n",
      "solution: [0, 1, 2]\n",
      "solution objective: 202.0\n"
     ]
    },
    {
     "data": {
      "image/png": "[encoded data removed]",
      "text/plain": [
       "<Figure size 432x288 with 1 Axes>"
      ]
     },
     "metadata": {},
     "output_type": "display_data"
    }
   ],
   "source": [
    "#Making the Hamiltonian in its full form and getting the lowest eigenvalue and eigenvector\n",
    "ee = NumPyMinimumEigensolver()\n",
    "result = ee.compute_minimum_eigenvalue(qubitOp)\n",
    "\n",
    "print('energy:', result.eigenvalue.real)\n",
    "print('tsp objective:', result.eigenvalue.real + offset)\n",
    "x = tsp.sample_most_likely(result.eigenstate)\n",
    "print('feasible:', qubo.is_feasible(x))\n",
    "z = tsp.interpret(x)\n",
    "print('solution:', z)\n",
    "print('solution objective:', tsp.tsp_value(z, adj_matrix))\n",
    "draw_tsp_solution(tsp.graph, z, colors, pos)"
   ]
  },
  {
   "cell_type": "markdown",
   "metadata": {},
   "source": [
    "### Running it on quantum computer\n",
    "We run the optimization routine using a feedback loop with a quantum computer that uses trial functions built with Y single-qubit rotations, $U_\\mathrm{single}(\\theta) = \\prod_{i=1}^n Y(\\theta_{i})$, and entangler steps $U_\\mathrm{entangler}$."
   ]
  },
  {
   "cell_type": "code",
   "execution_count": 20,
   "metadata": {},
   "outputs": [],
   "source": [
    "algorithm_globals.random_seed = 123\n",
    "seed = 10598\n",
    "backend = Aer.get_backend('aer_simulator_statevector')\n",
    "quantum_instance = QuantumInstance(backend, seed_simulator=seed, seed_transpiler=seed)"
   ]
  },
  {
   "cell_type": "code",
   "execution_count": 21,
   "metadata": {
    "tags": []
   },
   "outputs": [
    {
     "name": "stdout",
     "output_type": "stream",
     "text": [
      "energy: -7326.024699521837\n",
      "time: 4.142290353775024\n",
      "feasible: True\n",
      "solution: [1, 2, 0]\n",
      "solution objective: 202.0\n"
     ]
    },
    {
     "data": {
      "image/png": "[encoded data removed]",
      "text/plain": [
       "<Figure size 432x288 with 1 Axes>"
      ]
     },
     "metadata": {},
     "output_type": "display_data"
    }
   ],
   "source": [
    "spsa = SPSA(maxiter=300)\n",
    "ry = TwoLocal(qubitOp.num_qubits, 'ry', 'cz', reps=5, entanglement='linear')\n",
    "vqe = VQE(ry, optimizer=spsa, quantum_instance=quantum_instance)\n",
    "\n",
    "result = vqe.compute_minimum_eigenvalue(qubitOp)\n",
    "\n",
    "print('energy:', result.eigenvalue.real)\n",
    "print('time:', result.optimizer_time)\n",
    "x = tsp.sample_most_likely(result.eigenstate)\n",
    "print('feasible:', qubo.is_feasible(x))\n",
    "z = tsp.interpret(x)\n",
    "print('solution:', z)\n",
    "print('solution objective:', tsp.tsp_value(z, adj_matrix))\n",
    "draw_tsp_solution(tsp.graph, z, colors, pos)"
   ]
  },
  {
   "cell_type": "code",
   "execution_count": 23,
   "metadata": {},
   "outputs": [],
   "source": [
    "algorithm_globals.random_seed = 123\n",
    "seed = 10598\n",
    "backend = Aer.get_backend('aer_simulator_statevector')\n",
    "quantum_instance = QuantumInstance(backend, seed_simulator=seed, seed_transpiler=seed)"
   ]
  },
  {
   "cell_type": "code",
   "execution_count": 24,
   "metadata": {
    "tags": []
   },
   "outputs": [
    {
     "name": "stdout",
     "output_type": "stream",
     "text": [
      "optimal function value: 202.0\n",
      "optimal value: [0. 0. 1. 1. 0. 0. 0. 1. 0.]\n",
      "status: SUCCESS\n",
      "solution: [1, 2, 0]\n",
      "solution objective: 202.0\n"
     ]
    },
    {
     "data": {
      "image/png": "[encoded data removed]",
      "text/plain": [
       "<Figure size 432x288 with 1 Axes>"
      ]
     },
     "metadata": {},
     "output_type": "display_data"
    }
   ],
   "source": [
    "# create minimum eigen optimizer based on VQE\n",
    "import warnings\n",
    "warnings.filterwarnings('ignore', category=UserWarning)\n",
    "vqe_optimizer = MinimumEigenOptimizer(vqe)\n",
    "\n",
    "# solve quadratic program\n",
    "result = vqe_optimizer.solve(qp)\n",
    "print(result)\n",
    "\n",
    "z = tsp.interpret(x)\n",
    "print('solution:', z)\n",
    "print('solution objective:', tsp.tsp_value(z, adj_matrix))\n",
    "draw_tsp_solution(tsp.graph, z, colors, pos)"
   ]
  },
  {
   "cell_type": "code",
   "execution_count": 27,
   "metadata": {
    "ExecuteTime": {
     "end_time": "2019-08-22T01:58:30.581695Z",
     "start_time": "2019-08-22T01:58:30.574381Z"
    }
   },
   "outputs": [
    {
     "name": "stderr",
     "output_type": "stream",
     "text": [
      "/home/sher/Dev/quantum-travel/server/venv/lib/python3.9/site-packages/qiskit/aqua/__init__.py:86: DeprecationWarning: The package qiskit.aqua is deprecated. It was moved/refactored to qiskit-terra For more information see <https://github.com/Qiskit/qiskit-aqua/blob/main/README.md#migration-guide>\n",
      "  warn_package('aqua', 'qiskit-terra')\n"
     ]
    },
    {
     "data": {
      "text/html": [
       "<h3>Version Information</h3><table><tr><th>Qiskit Software</th><th>Version</th></tr><tr><td><code>qiskit-terra</code></td><td>0.18.3</td></tr><tr><td><code>qiskit-aer</code></td><td>0.9.1</td></tr><tr><td><code>qiskit-ignis</code></td><td>0.6.0</td></tr><tr><td><code>qiskit-ibmq-provider</code></td><td>0.17.0</td></tr><tr><td><code>qiskit-aqua</code></td><td>0.9.5</td></tr><tr><td><code>qiskit</code></td><td>0.31.0</td></tr><tr><td><code>qiskit-optimization</code></td><td>0.2.3</td></tr><tr><th>System information</th></tr><tr><td>Python</td><td>3.9.7 (default, Aug 31 2021, 13:28:12) \n",
       "[GCC 11.1.0]</td></tr><tr><td>OS</td><td>Linux</td></tr><tr><td>CPUs</td><td>6</td></tr><tr><td>Memory (Gb)</td><td>14.999595642089844</td></tr><tr><td colspan='2'>Sat Oct 23 10:43:55 2021 MSK</td></tr></table>"
      ],
      "text/plain": [
       "<IPython.core.display.HTML object>"
      ]
     },
     "metadata": {},
     "output_type": "display_data"
    },
    {
     "data": {
      "text/html": [
       "<div style='width: 100%; background-color:#d5d9e0;padding-left: 10px; padding-bottom: 10px; padding-right: 10px; padding-top: 5px'><h3>This code is a part of Qiskit</h3><p>&copy; Copyright IBM 2017, 2021.</p><p>This code is licensed under the Apache License, Version 2.0. You may<br>obtain a copy of this license in the LICENSE.txt file in the root directory<br> of this source tree or at http://www.apache.org/licenses/LICENSE-2.0.<p>Any modifications or derivative works of this code must retain this<br>copyright notice, and modified files need to carry a notice indicating<br>that they have been altered from the originals.</p></div>"
      ],
      "text/plain": [
       "<IPython.core.display.HTML object>"
      ]
     },
     "metadata": {},
     "output_type": "display_data"
    }
   ],
   "source": [
    "import qiskit.tools.jupyter\n",
    "%qiskit_version_table\n",
    "%qiskit_copyright"
   ]
  }
 ],
 "metadata": {
  "anaconda-cloud": {},
  "celltoolbar": "Tags",
  "interpreter": {
   "hash": "b4fe86ebdff5cc3f22ee67b3ac6e6e0ad6d0d521745d3575c06ff4d245962764"
  },
  "kernelspec": {
   "display_name": "Python 3 (ipykernel)",
   "language": "python",
   "name": "python3"
  },
  "language_info": {
   "codemirror_mode": {
    "name": "ipython",
    "version": 3
   },
   "file_extension": ".py",
   "mimetype": "text/x-python",
   "name": "python",
   "nbconvert_exporter": "python",
   "pygments_lexer": "ipython3",
   "version": "3.9.7"
  },
  "varInspector": {
   "cols": {
    "lenName": 16,
    "lenType": 16,
    "lenVar": 40
   },
   "kernels_config": {
    "python": {
     "delete_cmd_postfix": "",
     "delete_cmd_prefix": "del ",
     "library": "var_list.py",
     "varRefreshCmd": "print(var_dic_list())"
    },
    "r": {
     "delete_cmd_postfix": ") ",
     "delete_cmd_prefix": "rm(",
     "library": "var_list.r",
     "varRefreshCmd": "cat(var_dic_list()) "
    }
   },
   "types_to_exclude": [
    "module",
    "function",
    "builtin_function_or_method",
    "instance",
    "_Feature"
   ],
   "window_display": false
  },
  "widgets": {
   "application/vnd.jupyter.widget-state+json": {
    "state": {
     "1f4764efbdf546c7bae2f8d6f8fe3c42": {
      "model_module": "@jupyter-widgets/base",
      "model_module_version": "1.2.0",
      "model_name": "LayoutModel",
      "state": {
       "grid_template_areas": "\n                                       \". . . . right \"\n                                        ",
       "grid_template_columns": "20% 20% 20% 20% 20%",
       "width": "100%"
      }
     },
     "27b793b675b444f3b21a8296db4c7090": {
      "model_module": "@jupyter-widgets/base",
      "model_module_version": "1.2.0",
      "model_name": "LayoutModel",
      "state": {}
     },
     "2e161287a7134c8ca8f93f54ce139e9f": {
      "model_module": "@jupyter-widgets/base",
      "model_module_version": "1.2.0",
      "model_name": "LayoutModel",
      "state": {
       "width": "145px"
      }
     },
     "3d2ab4404230492fa68f52b010780cdf": {
      "model_module": "@jupyter-widgets/controls",
      "model_module_version": "1.5.0",
      "model_name": "ButtonModel",
      "state": {
       "button_style": "primary",
       "description": "Clear",
       "layout": "IPY_MODEL_718e9d3eee334eaa82a8a81626b0dca4",
       "style": "IPY_MODEL_dbdeecc678e345d6b88fdd18001a671a"
      }
     },
     "47586cc41e7c49c390549da032e442aa": {
      "model_module": "@jupyter-widgets/base",
      "model_module_version": "1.2.0",
      "model_name": "LayoutModel",
      "state": {
       "margin": "0px 0px 0px 37px",
       "width": "600px"
      }
     },
     "4849869bb6184487926b368f1656ab88": {
      "model_module": "@jupyter-widgets/controls",
      "model_module_version": "1.5.0",
      "model_name": "DescriptionStyleModel",
      "state": {
       "description_width": ""
      }
     },
     "521e7d49922843ff84808139af22b6e4": {
      "model_module": "@jupyter-widgets/base",
      "model_module_version": "1.2.0",
      "model_name": "LayoutModel",
      "state": {
       "width": "190px"
      }
     },
     "53b8349d18ac4d87af4082d38f4de3b5": {
      "model_module": "@jupyter-widgets/controls",
      "model_module_version": "1.5.0",
      "model_name": "DescriptionStyleModel",
      "state": {
       "description_width": ""
      }
     },
     "560f1801282a44319274f6a104c3afc2": {
      "model_module": "@jupyter-widgets/controls",
      "model_module_version": "1.5.0",
      "model_name": "HTMLModel",
      "state": {
       "layout": "IPY_MODEL_cb352b8aca6e400c8a1d51c4a473aa80",
       "style": "IPY_MODEL_816e3e3c92254b91b909cc9216115a90",
       "value": "<h5>Status</h5>"
      }
     },
     "5a9365ce5afe47df8fec8a9ba4fa4c51": {
      "model_module": "@jupyter-widgets/controls",
      "model_module_version": "1.5.0",
      "model_name": "DescriptionStyleModel",
      "state": {
       "description_width": ""
      }
     },
     "6ab89e3543944d1b900224ed7b60efc6": {
      "model_module": "@jupyter-widgets/controls",
      "model_module_version": "1.5.0",
      "model_name": "HTMLModel",
      "state": {
       "layout": "IPY_MODEL_d03787a8347c4766897ed87c49c58f98",
       "style": "IPY_MODEL_e72cfedec8e242f7a35e376a2a36a9a5",
       "value": "<p style='font-family: IBM Plex Sans, Arial, Helvetica, sans-serif; font-size: 20px; font-weight: medium;'>Circuit Properties</p>"
      }
     },
     "718e9d3eee334eaa82a8a81626b0dca4": {
      "model_module": "@jupyter-widgets/base",
      "model_module_version": "1.2.0",
      "model_name": "LayoutModel",
      "state": {
       "grid_area": "right",
       "padding": "0px 0px 0px 0px",
       "width": "70px"
      }
     },
     "7387a93232b84ded93b62895379b788b": {
      "model_module": "@jupyter-widgets/controls",
      "model_module_version": "1.5.0",
      "model_name": "DescriptionStyleModel",
      "state": {
       "description_width": ""
      }
     },
     "816e3e3c92254b91b909cc9216115a90": {
      "model_module": "@jupyter-widgets/controls",
      "model_module_version": "1.5.0",
      "model_name": "DescriptionStyleModel",
      "state": {
       "description_width": ""
      }
     },
     "a488f8eacafd47b5b75de95e83e97318": {
      "model_module": "@jupyter-widgets/controls",
      "model_module_version": "1.5.0",
      "model_name": "HTMLModel",
      "state": {
       "layout": "IPY_MODEL_521e7d49922843ff84808139af22b6e4",
       "style": "IPY_MODEL_7387a93232b84ded93b62895379b788b",
       "value": "<h5>Job ID</h5>"
      }
     },
     "a7dd4958d35840bdaa9d029d580ccccc": {
      "model_module": "@jupyter-widgets/controls",
      "model_module_version": "1.5.0",
      "model_name": "HTMLModel",
      "state": {
       "layout": "IPY_MODEL_27b793b675b444f3b21a8296db4c7090",
       "style": "IPY_MODEL_5a9365ce5afe47df8fec8a9ba4fa4c51",
       "value": "<h5>Message</h5>"
      }
     },
     "b0d32407a2534d13b018991da9983653": {
      "model_module": "@jupyter-widgets/controls",
      "model_module_version": "1.5.0",
      "model_name": "HBoxModel",
      "state": {
       "children": [
        "IPY_MODEL_a488f8eacafd47b5b75de95e83e97318",
        "IPY_MODEL_f9ce6c2241274e6e809a367b25fb4140",
        "IPY_MODEL_560f1801282a44319274f6a104c3afc2",
        "IPY_MODEL_e38f0ae1375449988832852af3e92ff5",
        "IPY_MODEL_a7dd4958d35840bdaa9d029d580ccccc"
       ],
       "layout": "IPY_MODEL_47586cc41e7c49c390549da032e442aa"
      }
     },
     "cb352b8aca6e400c8a1d51c4a473aa80": {
      "model_module": "@jupyter-widgets/base",
      "model_module_version": "1.2.0",
      "model_name": "LayoutModel",
      "state": {
       "width": "95px"
      }
     },
     "cdc659dfc83d4fc99ab50948c6a0f24f": {
      "model_module": "@jupyter-widgets/base",
      "model_module_version": "1.2.0",
      "model_name": "LayoutModel",
      "state": {
       "width": "70px"
      }
     },
     "d03787a8347c4766897ed87c49c58f98": {
      "model_module": "@jupyter-widgets/base",
      "model_module_version": "1.2.0",
      "model_name": "LayoutModel",
      "state": {
       "margin": "0px 0px 10px 0px"
      }
     },
     "dbdeecc678e345d6b88fdd18001a671a": {
      "model_module": "@jupyter-widgets/controls",
      "model_module_version": "1.5.0",
      "model_name": "ButtonStyleModel",
      "state": {}
     },
     "dd8b7618a5d24907ab1e50290ed9483e": {
      "model_module": "@jupyter-widgets/controls",
      "model_module_version": "1.5.0",
      "model_name": "GridBoxModel",
      "state": {
       "children": [
        "IPY_MODEL_3d2ab4404230492fa68f52b010780cdf"
       ],
       "layout": "IPY_MODEL_1f4764efbdf546c7bae2f8d6f8fe3c42"
      }
     },
     "e38f0ae1375449988832852af3e92ff5": {
      "model_module": "@jupyter-widgets/controls",
      "model_module_version": "1.5.0",
      "model_name": "HTMLModel",
      "state": {
       "layout": "IPY_MODEL_cdc659dfc83d4fc99ab50948c6a0f24f",
       "style": "IPY_MODEL_4849869bb6184487926b368f1656ab88",
       "value": "<h5>Queue</h5>"
      }
     },
     "e72cfedec8e242f7a35e376a2a36a9a5": {
      "model_module": "@jupyter-widgets/controls",
      "model_module_version": "1.5.0",
      "model_name": "DescriptionStyleModel",
      "state": {
       "description_width": ""
      }
     },
     "f9ce6c2241274e6e809a367b25fb4140": {
      "model_module": "@jupyter-widgets/controls",
      "model_module_version": "1.5.0",
      "model_name": "HTMLModel",
      "state": {
       "layout": "IPY_MODEL_2e161287a7134c8ca8f93f54ce139e9f",
       "style": "IPY_MODEL_53b8349d18ac4d87af4082d38f4de3b5",
       "value": "<h5>Backend</h5>"
      }
     }
    },
    "version_major": 2,
    "version_minor": 0
   }
  }
 },
 "nbformat": 4,
 "nbformat_minor": 4
}
